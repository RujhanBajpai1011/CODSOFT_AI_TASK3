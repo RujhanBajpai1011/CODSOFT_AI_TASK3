{
  "nbformat": 4,
  "nbformat_minor": 0,
  "metadata": {
    "colab": {
      "provenance": []
    },
    "kernelspec": {
      "name": "python3",
      "display_name": "Python 3"
    },
    "language_info": {
      "name": "python"
    }
  },
  "cells": [
    {
      "cell_type": "code",
      "source": [
        "import pandas as pd\n",
        "from sklearn.metrics.pairwise import cosine_similarity\n",
        "from sklearn.feature_extraction.text import TfidfVectorizer\n",
        "\n",
        "class RecommendationSystem:\n",
        "    def _init_(self,data):\n",
        "        self.data = pd.DataFrame(data)\n",
        "        self.vectorizer = TfidfVectorizer(stop_words='english')\n",
        "        self.tfidf_matrix = self.vectorizer.fit_transform(self.data['description'])\n",
        "        self.similarity_matrix = cosine_similarity(self.tfidf_matrix)\n",
        "\n",
        "    def recommend(self,item_index,top_n=3):\n",
        "        similarity_scores = list(enumerate(self.similarity_matrix[item_index]))\n",
        "        similarity_scores = sorted(similarity_scores,key = lambda x:x[1],reverse=True)[1:top_n+1]\n",
        "        recommendations = [self.data.iloc[i[0]]['name']for i in similarity_scores]\n",
        "        return recommendations\n",
        "\n",
        "if __name__ == \"_main_\":\n",
        "    sample_data = [\n",
        "        {\"name\":\"Book A\",\"description\":\"A thrilling mystery novel.\"},\n",
        "        {\"name\":\"Book B\",\"description\":\"A science fiction adventure.\"},\n",
        "        {\"name\":\"Book C\",\"description\":\"A futuristic sci-fi epic.\"}\n",
        "        ]\n",
        "\n",
        "    rec_sys = RecommendationSystem(sample_data)\n",
        "    print(\"Recommendations for Book A:\",rec_sys.recommend(0))"
      ],
      "metadata": {
        "id": "p3DXWvkAmsqz"
      },
      "execution_count": 13,
      "outputs": []
    },
    {
      "cell_type": "code",
      "source": [],
      "metadata": {
        "id": "yvcBVTqcsXhH"
      },
      "execution_count": null,
      "outputs": []
    }
  ]
}